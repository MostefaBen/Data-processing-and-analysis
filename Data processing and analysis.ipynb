{
 "cells": [
  {
   "cell_type": "markdown",
   "id": "ad42ae66",
   "metadata": {},
   "source": [
    "# Data Preprocessing"
   ]
  },
  {
   "cell_type": "code",
   "execution_count": 1,
   "id": "038c3c35",
   "metadata": {},
   "outputs": [],
   "source": [
    "# import libraries\n",
    "import torch\n",
    "import os\n",
    "import time\n",
    "import timeit\n",
    "import numpy as np\n",
    "from os import path\n",
    "import pandas as pd"
   ]
  },
  {
   "cell_type": "code",
   "execution_count": 2,
   "id": "767613e8",
   "metadata": {},
   "outputs": [],
   "source": [
    "# Creaing a folder\n",
    "os.makedirs(os.path.join('data'), exist_ok=True)\n",
    "# Creating (Writing inside) a CSV file \n",
    "data_file = os.path.join('data', 'houses.csv')\n",
    "with open(data_file, 'w') as f:\n",
    "     f.write('''Country,Rooms,Price,Size\n",
    "USA,NA,12500,200\n",
    "NA,3,16000,150\n",
    "France,4,17800,170\n",
    "NA,NA,14000,90''')"
   ]
  },
  {
   "cell_type": "code",
   "execution_count": 3,
   "id": "629e46e2",
   "metadata": {},
   "outputs": [
    {
     "name": "stdout",
     "output_type": "stream",
     "text": [
      "True\n"
     ]
    }
   ],
   "source": [
    "# checking  if the CSV file exists \n",
    "data_file = os.path.join('data', 'houses.csv')\n",
    "if path.exists(data_file):\n",
    "    print(\"True\")"
   ]
  },
  {
   "cell_type": "code",
   "execution_count": 4,
   "id": "3800cb52",
   "metadata": {},
   "outputs": [
    {
     "name": "stdout",
     "output_type": "stream",
     "text": [
      "  Country  Rooms  Price  Size\n",
      "0     USA    NaN  12500   200\n",
      "1     NaN    3.0  16000   150\n",
      "2  France    4.0  17800   170\n",
      "3     NaN    NaN  14000    90\n"
     ]
    }
   ],
   "source": [
    "# Reading a CSV file \n",
    "data_file = os.path.join('data', 'houses.csv')\n",
    "if path.exists(data_file):\n",
    "    data = pd.read_csv(data_file)\n",
    "    print(data)"
   ]
  },
  {
   "cell_type": "code",
   "execution_count": 5,
   "id": "47128937",
   "metadata": {},
   "outputs": [
    {
     "name": "stdout",
     "output_type": "stream",
     "text": [
      "  Country  Price\n",
      "1     NaN  16000\n",
      "3     NaN  14000\n"
     ]
    }
   ],
   "source": [
    "# Data Frame indexing and slicing\n",
    "# Indexing specific rows and columns\n",
    "print(data.loc[[1,3],['Country', 'Price']])"
   ]
  },
  {
   "cell_type": "code",
   "execution_count": 6,
   "id": "9366f4e1",
   "metadata": {},
   "outputs": [
    {
     "data": {
      "text/html": [
       "<div>\n",
       "<style scoped>\n",
       "    .dataframe tbody tr th:only-of-type {\n",
       "        vertical-align: middle;\n",
       "    }\n",
       "\n",
       "    .dataframe tbody tr th {\n",
       "        vertical-align: top;\n",
       "    }\n",
       "\n",
       "    .dataframe thead th {\n",
       "        text-align: right;\n",
       "    }\n",
       "</style>\n",
       "<table border=\"1\" class=\"dataframe\">\n",
       "  <thead>\n",
       "    <tr style=\"text-align: right;\">\n",
       "      <th></th>\n",
       "      <th>Price</th>\n",
       "    </tr>\n",
       "  </thead>\n",
       "  <tbody>\n",
       "    <tr>\n",
       "      <th>0</th>\n",
       "      <td>12500</td>\n",
       "    </tr>\n",
       "    <tr>\n",
       "      <th>1</th>\n",
       "      <td>16000</td>\n",
       "    </tr>\n",
       "    <tr>\n",
       "      <th>2</th>\n",
       "      <td>17800</td>\n",
       "    </tr>\n",
       "    <tr>\n",
       "      <th>3</th>\n",
       "      <td>14000</td>\n",
       "    </tr>\n",
       "  </tbody>\n",
       "</table>\n",
       "</div>"
      ],
      "text/plain": [
       "   Price\n",
       "0  12500\n",
       "1  16000\n",
       "2  17800\n",
       "3  14000"
      ]
     },
     "execution_count": 6,
     "metadata": {},
     "output_type": "execute_result"
    }
   ],
   "source": [
    "# Column indexing\n",
    "data.loc[:,['Price']]"
   ]
  },
  {
   "cell_type": "code",
   "execution_count": 7,
   "id": "79a1140b",
   "metadata": {},
   "outputs": [
    {
     "data": {
      "text/plain": [
       "Country      USA\n",
       "Rooms        NaN\n",
       "Price      12500\n",
       "Size         200\n",
       "Name: 0, dtype: object"
      ]
     },
     "execution_count": 7,
     "metadata": {},
     "output_type": "execute_result"
    }
   ],
   "source": [
    "# Row indexing\n",
    "data.loc[0]"
   ]
  },
  {
   "cell_type": "code",
   "execution_count": 8,
   "id": "0dd7934e",
   "metadata": {},
   "outputs": [
    {
     "data": {
      "text/plain": [
       "('USA', 12500)"
      ]
     },
     "execution_count": 8,
     "metadata": {},
     "output_type": "execute_result"
    }
   ],
   "source": [
    "# More about indexing\n",
    "data.Country[0], data.Price[0]"
   ]
  },
  {
   "cell_type": "code",
   "execution_count": 9,
   "id": "924852c0",
   "metadata": {},
   "outputs": [
    {
     "name": "stdout",
     "output_type": "stream",
     "text": [
      "  Country  Price\n",
      "0     USA  12500\n",
      "1     NaN  16000\n",
      "2  France  17800\n"
     ]
    }
   ],
   "source": [
    "# Slicing rows and columns\n",
    "print(data.loc[0:2,['Country', 'Price']])"
   ]
  },
  {
   "cell_type": "code",
   "execution_count": 10,
   "id": "a313e4f5",
   "metadata": {},
   "outputs": [
    {
     "data": {
      "text/plain": [
       "Country     object\n",
       "Rooms      float64\n",
       "Price        int64\n",
       "Size         int64\n",
       "dtype: object"
      ]
     },
     "execution_count": 10,
     "metadata": {},
     "output_type": "execute_result"
    }
   ],
   "source": [
    "# Data Frame Type\n",
    "data.dtypes"
   ]
  },
  {
   "cell_type": "code",
   "execution_count": 11,
   "id": "323356a1",
   "metadata": {},
   "outputs": [
    {
     "data": {
      "text/plain": [
       "dtype('int64')"
      ]
     },
     "execution_count": 11,
     "metadata": {},
     "output_type": "execute_result"
    }
   ],
   "source": [
    "# Get column type\n",
    "data['Price'].dtype"
   ]
  },
  {
   "cell_type": "markdown",
   "id": "955938ff",
   "metadata": {},
   "source": [
    "# Data Analysis"
   ]
  },
  {
   "cell_type": "code",
   "execution_count": 12,
   "id": "2084a57b",
   "metadata": {},
   "outputs": [
    {
     "data": {
      "text/html": [
       "<div>\n",
       "<style scoped>\n",
       "    .dataframe tbody tr th:only-of-type {\n",
       "        vertical-align: middle;\n",
       "    }\n",
       "\n",
       "    .dataframe tbody tr th {\n",
       "        vertical-align: top;\n",
       "    }\n",
       "\n",
       "    .dataframe thead th {\n",
       "        text-align: right;\n",
       "    }\n",
       "</style>\n",
       "<table border=\"1\" class=\"dataframe\">\n",
       "  <thead>\n",
       "    <tr style=\"text-align: right;\">\n",
       "      <th></th>\n",
       "      <th>Rooms</th>\n",
       "      <th>Price</th>\n",
       "      <th>Size</th>\n",
       "    </tr>\n",
       "  </thead>\n",
       "  <tbody>\n",
       "    <tr>\n",
       "      <th>count</th>\n",
       "      <td>2.000000</td>\n",
       "      <td>4.000000</td>\n",
       "      <td>4.000000</td>\n",
       "    </tr>\n",
       "    <tr>\n",
       "      <th>mean</th>\n",
       "      <td>3.500000</td>\n",
       "      <td>15075.000000</td>\n",
       "      <td>152.500000</td>\n",
       "    </tr>\n",
       "    <tr>\n",
       "      <th>std</th>\n",
       "      <td>0.707107</td>\n",
       "      <td>2314.267343</td>\n",
       "      <td>46.457866</td>\n",
       "    </tr>\n",
       "    <tr>\n",
       "      <th>min</th>\n",
       "      <td>3.000000</td>\n",
       "      <td>12500.000000</td>\n",
       "      <td>90.000000</td>\n",
       "    </tr>\n",
       "    <tr>\n",
       "      <th>25%</th>\n",
       "      <td>3.250000</td>\n",
       "      <td>13625.000000</td>\n",
       "      <td>135.000000</td>\n",
       "    </tr>\n",
       "    <tr>\n",
       "      <th>50%</th>\n",
       "      <td>3.500000</td>\n",
       "      <td>15000.000000</td>\n",
       "      <td>160.000000</td>\n",
       "    </tr>\n",
       "    <tr>\n",
       "      <th>75%</th>\n",
       "      <td>3.750000</td>\n",
       "      <td>16450.000000</td>\n",
       "      <td>177.500000</td>\n",
       "    </tr>\n",
       "    <tr>\n",
       "      <th>max</th>\n",
       "      <td>4.000000</td>\n",
       "      <td>17800.000000</td>\n",
       "      <td>200.000000</td>\n",
       "    </tr>\n",
       "  </tbody>\n",
       "</table>\n",
       "</div>"
      ],
      "text/plain": [
       "          Rooms         Price        Size\n",
       "count  2.000000      4.000000    4.000000\n",
       "mean   3.500000  15075.000000  152.500000\n",
       "std    0.707107   2314.267343   46.457866\n",
       "min    3.000000  12500.000000   90.000000\n",
       "25%    3.250000  13625.000000  135.000000\n",
       "50%    3.500000  15000.000000  160.000000\n",
       "75%    3.750000  16450.000000  177.500000\n",
       "max    4.000000  17800.000000  200.000000"
      ]
     },
     "execution_count": 12,
     "metadata": {},
     "output_type": "execute_result"
    }
   ],
   "source": [
    "# Describing Data Frame \n",
    "data.describe()"
   ]
  },
  {
   "cell_type": "code",
   "execution_count": 13,
   "id": "aa81bb62",
   "metadata": {},
   "outputs": [
    {
     "data": {
      "text/plain": [
       "Rooms        4.0\n",
       "Price    17800.0\n",
       "Size       200.0\n",
       "dtype: float64"
      ]
     },
     "execution_count": 13,
     "metadata": {},
     "output_type": "execute_result"
    }
   ],
   "source": [
    "# Get max value of each column\n",
    "data.describe().max()"
   ]
  },
  {
   "cell_type": "markdown",
   "id": "eb69b1cb",
   "metadata": {},
   "source": [
    "##### Memory saving\n",
    "As we can see, the maximum value is 17800.0, which is less than the maximum value of uint16 (65535), so all we need in terms of memory is of type uint16"
   ]
  },
  {
   "cell_type": "code",
   "execution_count": 14,
   "id": "2a247cc3",
   "metadata": {},
   "outputs": [
    {
     "name": "stdout",
     "output_type": "stream",
     "text": [
      "<class 'pandas.core.frame.DataFrame'>\n",
      "RangeIndex: 4 entries, 0 to 3\n",
      "Data columns (total 4 columns):\n",
      " #   Column   Non-Null Count  Dtype  \n",
      "---  ------   --------------  -----  \n",
      " 0   Country  2 non-null      object \n",
      " 1   Rooms    2 non-null      float64\n",
      " 2   Price    4 non-null      int64  \n",
      " 3   Size     4 non-null      int64  \n",
      "dtypes: float64(1), int64(2), object(1)\n",
      "memory usage: 411.0 bytes\n"
     ]
    },
    {
     "data": {
      "text/plain": [
       "(None, 411)"
      ]
     },
     "execution_count": 14,
     "metadata": {},
     "output_type": "execute_result"
    }
   ],
   "source": [
    "# Lets compute the amounts of used memory\n",
    "data.info(memory_usage='deep'), data.memory_usage(deep=True).sum()"
   ]
  },
  {
   "cell_type": "code",
   "execution_count": 15,
   "id": "cf9d6dbc",
   "metadata": {},
   "outputs": [
    {
     "data": {
      "text/plain": [
       "True"
      ]
     },
     "execution_count": 15,
     "metadata": {},
     "output_type": "execute_result"
    }
   ],
   "source": [
    "# Check if Price column is numeric\n",
    "np.issubdtype(data['Price'].dtype, np.number)"
   ]
  },
  {
   "cell_type": "code",
   "execution_count": 16,
   "id": "90771eb1",
   "metadata": {},
   "outputs": [
    {
     "data": {
      "text/plain": [
       "Index(['Country', 'Rooms', 'Price', 'Size'], dtype='object')"
      ]
     },
     "execution_count": 16,
     "metadata": {},
     "output_type": "execute_result"
    }
   ],
   "source": [
    "# Get the name of each column\n",
    "data.columns"
   ]
  },
  {
   "cell_type": "code",
   "execution_count": 17,
   "id": "88bd4857",
   "metadata": {},
   "outputs": [
    {
     "data": {
      "text/plain": [
       "['Country', 'Rooms', 'Price', 'Size']"
      ]
     },
     "execution_count": 17,
     "metadata": {},
     "output_type": "execute_result"
    }
   ],
   "source": [
    "# Convert pandas indexes to python list\n",
    "data.columns.tolist()"
   ]
  },
  {
   "cell_type": "code",
   "execution_count": 18,
   "id": "3c941f08",
   "metadata": {},
   "outputs": [
    {
     "data": {
      "text/plain": [
       "Country     object\n",
       "Rooms      float64\n",
       "Price        int64\n",
       "Size         int64\n",
       "dtype: object"
      ]
     },
     "execution_count": 18,
     "metadata": {},
     "output_type": "execute_result"
    }
   ],
   "source": [
    "# Before converting Data Frame Type to unit16\n",
    "data.dtypes"
   ]
  },
  {
   "cell_type": "code",
   "execution_count": 19,
   "id": "e819f4ba",
   "metadata": {},
   "outputs": [
    {
     "name": "stdout",
     "output_type": "stream",
     "text": [
      "{'Country': dtype('O'), 'Rooms': <class 'numpy.uint16'>, 'Price': <class 'numpy.uint16'>, 'Size': <class 'numpy.uint16'>}\n",
      "Processing time:  0.0009999275207519531\n"
     ]
    }
   ],
   "source": [
    "# Building a dictionary comprehension\n",
    "start_time = time.time()\n",
    "temp_cols_uint16 = {col: np.uint16 if np.issubdtype(data[col].dtype, np.number) else data[col].dtype for col in data.columns}\n",
    "print(temp_cols_uint16)\n",
    "print(\"Processing time: \", time.time()-start_time)"
   ]
  },
  {
   "cell_type": "code",
   "execution_count": 20,
   "id": "958919e1",
   "metadata": {},
   "outputs": [
    {
     "name": "stdout",
     "output_type": "stream",
     "text": [
      "[False  True  True  True]\n",
      "Processing time:  0.002000093460083008\n"
     ]
    }
   ],
   "source": [
    "# Vectorize the check of Data Frame columns\n",
    "start_time = time.time()\n",
    "is_number = np.vectorize(lambda x: np.issubdtype(x, np.number) )\n",
    "print(is_number(data.dtypes))\n",
    "print(\"Processing time: \", time.time()-start_time)"
   ]
  },
  {
   "cell_type": "code",
   "execution_count": 21,
   "id": "dac91774",
   "metadata": {},
   "outputs": [
    {
     "data": {
      "text/plain": [
       "Country     object\n",
       "Rooms      float64\n",
       "Price        int64\n",
       "Size         int64\n",
       "dtype: object"
      ]
     },
     "execution_count": 21,
     "metadata": {},
     "output_type": "execute_result"
    }
   ],
   "source": [
    "# Convert country column into string\n",
    "# In Pandas string is represented as a Python Object\n",
    "data['Country'] = data['Country'] .astype(str)\n",
    "data.dtypes"
   ]
  },
  {
   "cell_type": "code",
   "execution_count": 22,
   "id": "2d411a5d",
   "metadata": {},
   "outputs": [],
   "source": [
    "#start_time = time.time()\n",
    "#is_number = np.vectorize(lambda x, y: {np.uint16, x} if np.issubdtype(y, np.number) else {})\n",
    "#print(is_number(data.columns, data.dtypes))\n",
    "#print(\"Processing time: \", time.time()-start_time)"
   ]
  },
  {
   "cell_type": "code",
   "execution_count": 23,
   "id": "743ab25b",
   "metadata": {},
   "outputs": [
    {
     "data": {
      "text/html": [
       "<div>\n",
       "<style scoped>\n",
       "    .dataframe tbody tr th:only-of-type {\n",
       "        vertical-align: middle;\n",
       "    }\n",
       "\n",
       "    .dataframe tbody tr th {\n",
       "        vertical-align: top;\n",
       "    }\n",
       "\n",
       "    .dataframe thead th {\n",
       "        text-align: right;\n",
       "    }\n",
       "</style>\n",
       "<table border=\"1\" class=\"dataframe\">\n",
       "  <thead>\n",
       "    <tr style=\"text-align: right;\">\n",
       "      <th></th>\n",
       "      <th>Country</th>\n",
       "      <th>Rooms</th>\n",
       "      <th>Price</th>\n",
       "      <th>Size</th>\n",
       "    </tr>\n",
       "  </thead>\n",
       "  <tbody>\n",
       "    <tr>\n",
       "      <th>0</th>\n",
       "      <td>USA</td>\n",
       "      <td>0.0</td>\n",
       "      <td>12500</td>\n",
       "      <td>200</td>\n",
       "    </tr>\n",
       "    <tr>\n",
       "      <th>1</th>\n",
       "      <td>nan</td>\n",
       "      <td>3.0</td>\n",
       "      <td>16000</td>\n",
       "      <td>150</td>\n",
       "    </tr>\n",
       "    <tr>\n",
       "      <th>2</th>\n",
       "      <td>France</td>\n",
       "      <td>4.0</td>\n",
       "      <td>17800</td>\n",
       "      <td>170</td>\n",
       "    </tr>\n",
       "    <tr>\n",
       "      <th>3</th>\n",
       "      <td>nan</td>\n",
       "      <td>0.0</td>\n",
       "      <td>14000</td>\n",
       "      <td>90</td>\n",
       "    </tr>\n",
       "  </tbody>\n",
       "</table>\n",
       "</div>"
      ],
      "text/plain": [
       "  Country  Rooms  Price  Size\n",
       "0     USA    0.0  12500   200\n",
       "1     nan    3.0  16000   150\n",
       "2  France    4.0  17800   170\n",
       "3     nan    0.0  14000    90"
      ]
     },
     "execution_count": 23,
     "metadata": {},
     "output_type": "execute_result"
    }
   ],
   "source": [
    "# Replace Nan with 0\n",
    "tmp_data = data.fillna(0)\n",
    "tmp_data"
   ]
  },
  {
   "cell_type": "code",
   "execution_count": 24,
   "id": "2eb911be",
   "metadata": {},
   "outputs": [
    {
     "data": {
      "text/plain": [
       "Country    object\n",
       "Rooms      uint16\n",
       "Price      uint16\n",
       "Size       uint16\n",
       "dtype: object"
      ]
     },
     "execution_count": 24,
     "metadata": {},
     "output_type": "execute_result"
    }
   ],
   "source": [
    "# After converting numerical columns into uint16\n",
    "data = tmp_data.astype(temp_cols_uint16)\n",
    "data.dtypes  "
   ]
  },
  {
   "cell_type": "code",
   "execution_count": 25,
   "id": "227abd56",
   "metadata": {},
   "outputs": [
    {
     "name": "stdout",
     "output_type": "stream",
     "text": [
      "<class 'pandas.core.frame.DataFrame'>\n",
      "RangeIndex: 4 entries, 0 to 3\n",
      "Data columns (total 4 columns):\n",
      " #   Column   Non-Null Count  Dtype \n",
      "---  ------   --------------  ----- \n",
      " 0   Country  4 non-null      object\n",
      " 1   Rooms    4 non-null      uint16\n",
      " 2   Price    4 non-null      uint16\n",
      " 3   Size     4 non-null      uint16\n",
      "dtypes: object(1), uint16(3)\n",
      "memory usage: 395.0 bytes\n"
     ]
    },
    {
     "data": {
      "text/plain": [
       "(None, 395)"
      ]
     },
     "execution_count": 25,
     "metadata": {},
     "output_type": "execute_result"
    }
   ],
   "source": [
    "# To get the mostly-accurate memory usage after convertion to uint16\n",
    "data.info(memory_usage='deep'), data.memory_usage(deep=True).sum()"
   ]
  },
  {
   "cell_type": "markdown",
   "id": "f6d77e36",
   "metadata": {},
   "source": [
    "#### By converting only Data Frame columns to uint16, we have optimized the memory by 3.89 %"
   ]
  },
  {
   "cell_type": "code",
   "execution_count": 26,
   "id": "62bc8ba0",
   "metadata": {},
   "outputs": [
    {
     "data": {
      "text/plain": [
       "['Country', 'Rooms', 'Size', 'Price']"
      ]
     },
     "execution_count": 26,
     "metadata": {},
     "output_type": "execute_result"
    }
   ],
   "source": [
    "# Changing the position of a column (method 1)\n",
    "temp_cols = data.columns.tolist()\n",
    "temp_cols =  temp_cols[:-2] + temp_cols[-1:]  + temp_cols[-2:-1] \n",
    "temp_cols"
   ]
  },
  {
   "cell_type": "code",
   "execution_count": 27,
   "id": "fc90471c",
   "metadata": {},
   "outputs": [],
   "source": [
    "# Changing the position of a column (method 2)\n",
    "#col = data.pop('Size')\n",
    "#data = data.insert(3, 'Size', col)\n",
    "#data"
   ]
  },
  {
   "cell_type": "code",
   "execution_count": 28,
   "id": "0b6fc1cd",
   "metadata": {},
   "outputs": [
    {
     "data": {
      "text/html": [
       "<div>\n",
       "<style scoped>\n",
       "    .dataframe tbody tr th:only-of-type {\n",
       "        vertical-align: middle;\n",
       "    }\n",
       "\n",
       "    .dataframe tbody tr th {\n",
       "        vertical-align: top;\n",
       "    }\n",
       "\n",
       "    .dataframe thead th {\n",
       "        text-align: right;\n",
       "    }\n",
       "</style>\n",
       "<table border=\"1\" class=\"dataframe\">\n",
       "  <thead>\n",
       "    <tr style=\"text-align: right;\">\n",
       "      <th></th>\n",
       "      <th>Country</th>\n",
       "      <th>Rooms</th>\n",
       "      <th>Size</th>\n",
       "      <th>Price</th>\n",
       "    </tr>\n",
       "  </thead>\n",
       "  <tbody>\n",
       "    <tr>\n",
       "      <th>0</th>\n",
       "      <td>USA</td>\n",
       "      <td>0</td>\n",
       "      <td>200</td>\n",
       "      <td>12500</td>\n",
       "    </tr>\n",
       "    <tr>\n",
       "      <th>1</th>\n",
       "      <td>nan</td>\n",
       "      <td>3</td>\n",
       "      <td>150</td>\n",
       "      <td>16000</td>\n",
       "    </tr>\n",
       "    <tr>\n",
       "      <th>2</th>\n",
       "      <td>France</td>\n",
       "      <td>4</td>\n",
       "      <td>170</td>\n",
       "      <td>17800</td>\n",
       "    </tr>\n",
       "    <tr>\n",
       "      <th>3</th>\n",
       "      <td>nan</td>\n",
       "      <td>0</td>\n",
       "      <td>90</td>\n",
       "      <td>14000</td>\n",
       "    </tr>\n",
       "  </tbody>\n",
       "</table>\n",
       "</div>"
      ],
      "text/plain": [
       "  Country  Rooms  Size  Price\n",
       "0     USA      0   200  12500\n",
       "1     nan      3   150  16000\n",
       "2  France      4   170  17800\n",
       "3     nan      0    90  14000"
      ]
     },
     "execution_count": 28,
     "metadata": {},
     "output_type": "execute_result"
    }
   ],
   "source": [
    "# The new Data Frame\n",
    "data = data[temp_cols]\n",
    "data"
   ]
  },
  {
   "cell_type": "markdown",
   "id": "9b21f9a3",
   "metadata": {},
   "source": [
    "# Data Preparation"
   ]
  },
  {
   "cell_type": "code",
   "execution_count": 29,
   "id": "2ecd8494",
   "metadata": {},
   "outputs": [
    {
     "name": "stdout",
     "output_type": "stream",
     "text": [
      "  Country  Rooms  Size\n",
      "0     USA      0   200\n",
      "1     nan      3   150\n",
      "2  France      4   170\n",
      "3     nan      0    90 \n",
      "\n",
      "0    12500\n",
      "1    16000\n",
      "2    17800\n",
      "3    14000\n",
      "Name: Price, dtype: uint16\n"
     ]
    }
   ],
   "source": [
    "# we use iloc to select columns\n",
    "inputs, targets = data.iloc[:, 0:3], data.iloc[:, 3]\n",
    "print(inputs,\"\\n\")\n",
    "print(targets)"
   ]
  },
  {
   "cell_type": "code",
   "execution_count": 30,
   "id": "2738b6bf",
   "metadata": {},
   "outputs": [
    {
     "data": {
      "text/plain": [
       "(array([['USA', 0, 200],\n",
       "        ['nan', 3, 150],\n",
       "        ['France', 4, 170],\n",
       "        ['nan', 0, 90]], dtype=object),\n",
       " array([12500, 16000, 17800, 14000], dtype=uint16))"
      ]
     },
     "execution_count": 30,
     "metadata": {},
     "output_type": "execute_result"
    }
   ],
   "source": [
    "# transform pandas tables into numpy matrices\n",
    "inputs.values, targets.values"
   ]
  },
  {
   "cell_type": "code",
   "execution_count": 31,
   "id": "be286da4",
   "metadata": {},
   "outputs": [
    {
     "data": {
      "text/html": [
       "<div>\n",
       "<style scoped>\n",
       "    .dataframe tbody tr th:only-of-type {\n",
       "        vertical-align: middle;\n",
       "    }\n",
       "\n",
       "    .dataframe tbody tr th {\n",
       "        vertical-align: top;\n",
       "    }\n",
       "\n",
       "    .dataframe thead th {\n",
       "        text-align: right;\n",
       "    }\n",
       "</style>\n",
       "<table border=\"1\" class=\"dataframe\">\n",
       "  <thead>\n",
       "    <tr style=\"text-align: right;\">\n",
       "      <th></th>\n",
       "      <th>Rooms</th>\n",
       "      <th>Size</th>\n",
       "      <th>Country_France</th>\n",
       "      <th>Country_USA</th>\n",
       "      <th>Country_nan</th>\n",
       "      <th>Country_nan</th>\n",
       "    </tr>\n",
       "  </thead>\n",
       "  <tbody>\n",
       "    <tr>\n",
       "      <th>0</th>\n",
       "      <td>0</td>\n",
       "      <td>200</td>\n",
       "      <td>0</td>\n",
       "      <td>1</td>\n",
       "      <td>0</td>\n",
       "      <td>0</td>\n",
       "    </tr>\n",
       "    <tr>\n",
       "      <th>1</th>\n",
       "      <td>3</td>\n",
       "      <td>150</td>\n",
       "      <td>0</td>\n",
       "      <td>0</td>\n",
       "      <td>1</td>\n",
       "      <td>0</td>\n",
       "    </tr>\n",
       "    <tr>\n",
       "      <th>2</th>\n",
       "      <td>4</td>\n",
       "      <td>170</td>\n",
       "      <td>1</td>\n",
       "      <td>0</td>\n",
       "      <td>0</td>\n",
       "      <td>0</td>\n",
       "    </tr>\n",
       "    <tr>\n",
       "      <th>3</th>\n",
       "      <td>0</td>\n",
       "      <td>90</td>\n",
       "      <td>0</td>\n",
       "      <td>0</td>\n",
       "      <td>1</td>\n",
       "      <td>0</td>\n",
       "    </tr>\n",
       "  </tbody>\n",
       "</table>\n",
       "</div>"
      ],
      "text/plain": [
       "   Rooms  Size  Country_France  Country_USA  Country_nan  Country_nan\n",
       "0      0   200               0            1            0            0\n",
       "1      3   150               0            0            1            0\n",
       "2      4   170               1            0            0            0\n",
       "3      0    90               0            0            1            0"
      ]
     },
     "execution_count": 31,
     "metadata": {},
     "output_type": "execute_result"
    }
   ],
   "source": [
    "# dealing with missing data\n",
    "# in this example, we will apply imputation heuristics. For categorical input fields, we can treat NaN as a category.\n",
    "# dummy_na=True shows the column of the Nan\n",
    "inputs = pd.get_dummies(inputs, dummy_na=True) \n",
    "inputs"
   ]
  },
  {
   "cell_type": "code",
   "execution_count": 32,
   "id": "c07e9701",
   "metadata": {},
   "outputs": [
    {
     "data": {
      "text/html": [
       "<div>\n",
       "<style scoped>\n",
       "    .dataframe tbody tr th:only-of-type {\n",
       "        vertical-align: middle;\n",
       "    }\n",
       "\n",
       "    .dataframe tbody tr th {\n",
       "        vertical-align: top;\n",
       "    }\n",
       "\n",
       "    .dataframe thead th {\n",
       "        text-align: right;\n",
       "    }\n",
       "</style>\n",
       "<table border=\"1\" class=\"dataframe\">\n",
       "  <thead>\n",
       "    <tr style=\"text-align: right;\">\n",
       "      <th></th>\n",
       "      <th>Rooms</th>\n",
       "      <th>Size</th>\n",
       "      <th>Country_France</th>\n",
       "      <th>Country_USA</th>\n",
       "      <th>Country_nan</th>\n",
       "      <th>Country_nan</th>\n",
       "    </tr>\n",
       "  </thead>\n",
       "  <tbody>\n",
       "    <tr>\n",
       "      <th>0</th>\n",
       "      <td>0</td>\n",
       "      <td>200</td>\n",
       "      <td>0</td>\n",
       "      <td>1</td>\n",
       "      <td>0</td>\n",
       "      <td>0</td>\n",
       "    </tr>\n",
       "    <tr>\n",
       "      <th>1</th>\n",
       "      <td>3</td>\n",
       "      <td>150</td>\n",
       "      <td>0</td>\n",
       "      <td>0</td>\n",
       "      <td>1</td>\n",
       "      <td>0</td>\n",
       "    </tr>\n",
       "    <tr>\n",
       "      <th>2</th>\n",
       "      <td>4</td>\n",
       "      <td>170</td>\n",
       "      <td>1</td>\n",
       "      <td>0</td>\n",
       "      <td>0</td>\n",
       "      <td>0</td>\n",
       "    </tr>\n",
       "    <tr>\n",
       "      <th>3</th>\n",
       "      <td>0</td>\n",
       "      <td>90</td>\n",
       "      <td>0</td>\n",
       "      <td>0</td>\n",
       "      <td>1</td>\n",
       "      <td>0</td>\n",
       "    </tr>\n",
       "  </tbody>\n",
       "</table>\n",
       "</div>"
      ],
      "text/plain": [
       "   Rooms  Size  Country_France  Country_USA  Country_nan  Country_nan\n",
       "0      0   200               0            1            0            0\n",
       "1      3   150               0            0            1            0\n",
       "2      4   170               1            0            0            0\n",
       "3      0    90               0            0            1            0"
      ]
     },
     "execution_count": 32,
     "metadata": {},
     "output_type": "execute_result"
    }
   ],
   "source": [
    "# dealing with missing data\n",
    "# in this example, we replace the NaN entries with the mean value of the corresponding column.\n",
    "# we use fillna to fill the Nan entry\n",
    "inputs =  inputs.fillna(inputs.mean())\n",
    "inputs"
   ]
  },
  {
   "cell_type": "markdown",
   "id": "502d6b6e",
   "metadata": {},
   "source": [
    "# Conversion to the Tensor Format"
   ]
  },
  {
   "cell_type": "code",
   "execution_count": 36,
   "id": "19ce4f7f",
   "metadata": {},
   "outputs": [
    {
     "data": {
      "text/plain": [
       "Country    object\n",
       "Rooms      uint16\n",
       "Size       uint16\n",
       "Price      uint16\n",
       "dtype: object"
      ]
     },
     "execution_count": 36,
     "metadata": {},
     "output_type": "execute_result"
    }
   ],
   "source": [
    "# Data frame type\n",
    "data.dtypes"
   ]
  },
  {
   "cell_type": "markdown",
   "id": "0c4f29ab",
   "metadata": {},
   "source": [
    "Pytorch, for now, does not support unsigned 16-bit integer.\n",
    "The only supported types are: float64, float32, float16, complex64, complex128, int64, int32, int16, int8, uint8, and bool."
   ]
  },
  {
   "cell_type": "code",
   "execution_count": 34,
   "id": "3273c957",
   "metadata": {},
   "outputs": [
    {
     "data": {
      "text/plain": [
       "(Rooms             int32\n",
       " Size              int32\n",
       " Country_France    int32\n",
       " Country_USA       int32\n",
       " Country_nan       int32\n",
       " Country_nan       int32\n",
       " dtype: object,\n",
       " dtype('int32'))"
      ]
     },
     "execution_count": 34,
     "metadata": {},
     "output_type": "execute_result"
    }
   ],
   "source": [
    "# Converting data frame to signed 32-bit integer (int32)\n",
    "inputs, targets = inputs.astype(np.int32), targets.astype(np.int32)\n",
    "inputs.dtypes, targets.dtypes"
   ]
  },
  {
   "cell_type": "code",
   "execution_count": 35,
   "id": "7114bc5c",
   "metadata": {},
   "outputs": [
    {
     "data": {
      "text/plain": [
       "(tensor([[  0, 200,   0,   1,   0,   0],\n",
       "         [  3, 150,   0,   0,   1,   0],\n",
       "         [  4, 170,   1,   0,   0,   0],\n",
       "         [  0,  90,   0,   0,   1,   0]], dtype=torch.int32),\n",
       " tensor([12500, 16000, 17800, 14000], dtype=torch.int32))"
      ]
     },
     "execution_count": 35,
     "metadata": {},
     "output_type": "execute_result"
    }
   ],
   "source": [
    "# Convertng data frame to tensor\n",
    "X, y = torch.tensor(inputs.values), torch.tensor(targets.values)\n",
    "X, y"
   ]
  }
 ],
 "metadata": {
  "kernelspec": {
   "display_name": "Python 3 (ipykernel)",
   "language": "python",
   "name": "python3"
  },
  "language_info": {
   "codemirror_mode": {
    "name": "ipython",
    "version": 3
   },
   "file_extension": ".py",
   "mimetype": "text/x-python",
   "name": "python",
   "nbconvert_exporter": "python",
   "pygments_lexer": "ipython3",
   "version": "3.8.16"
  }
 },
 "nbformat": 4,
 "nbformat_minor": 5
}
